{
 "cells": [
  {
   "cell_type": "markdown",
   "metadata": {},
   "source": [
    "Genera una lista de 1000 enteros aleatorios en el intervalo [−100, 100] y calcula su media."
   ]
  },
  {
   "cell_type": "code",
   "execution_count": 1,
   "metadata": {},
   "outputs": [
    {
     "name": "stdout",
     "output_type": "stream",
     "text": [
      "0.19400\n"
     ]
    }
   ],
   "source": [
    "lista = [ randint(-100,100) for k in range(0,1000) ]\n",
    "print( mean(lista).n(digits=5) )"
   ]
  },
  {
   "cell_type": "markdown",
   "metadata": {},
   "source": [
    "Las alturas de ocho estudiantes, medidas en pulgadas, son 71, 73, 59, 62, 65, 61, 73, 61. Calcula la media, la mediana y la moda de estas alturas."
   ]
  },
  {
   "cell_type": "code",
   "execution_count": 2,
   "metadata": {},
   "outputs": [
    {
     "name": "stdout",
     "output_type": "stream",
     "text": [
      "La media es: 65.625\n",
      "La mediana es: 63.500\n",
      "La moda es: [61, 73]\n"
     ]
    }
   ],
   "source": [
    "# ordenamos la lista de datos\n",
    "muestra = [71, 73, 59, 62, 65, 61, 73, 61]\n",
    "print('La media es:', mean(muestra).n(digits=5) )\n",
    "print('La mediana es:', median(muestra).n(digits=5) )\n",
    "print('La moda es:', mode(muestra) )"
   ]
  },
  {
   "cell_type": "markdown",
   "metadata": {},
   "source": [
    "Usando los mismos datos, calcula la desviación típica y la varianza de las alturas de la muestra."
   ]
  },
  {
   "cell_type": "code",
   "execution_count": 3,
   "metadata": {},
   "outputs": [
    {
     "name": "stdout",
     "output_type": "stream",
     "text": [
      "La desviación típica es: 5.8294\n",
      "La varianza es: 2.4144\n"
     ]
    }
   ],
   "source": [
    "desv_tipica = std(muestra)\n",
    "print('La desviación típica es:', desv_tipica.n(digits=5))\n",
    "print('La varianza es:', sqrt(desv_tipica).n(digits=5) )"
   ]
  },
  {
   "cell_type": "markdown",
   "metadata": {},
   "source": [
    "Calcula el rango de la muestra de alturas anterior."
   ]
  },
  {
   "cell_type": "code",
   "execution_count": 4,
   "metadata": {},
   "outputs": [
    {
     "name": "stdout",
     "output_type": "stream",
     "text": [
      "El rango de la muestra es: [59,73]\n"
     ]
    }
   ],
   "source": [
    "print('El rango de la muestra es: [{},{}]'.format(min(muestra),max(muestra)) )"
   ]
  }
 ],
 "metadata": {
  "kernelspec": {
   "display_name": "SageMath 9.3",
   "language": "sage",
   "name": "sagemath"
  },
  "language_info": {
   "codemirror_mode": {
    "name": "ipython",
    "version": 3
   },
   "file_extension": ".py",
   "mimetype": "text/x-python",
   "name": "python",
   "nbconvert_exporter": "python",
   "pygments_lexer": "ipython3",
   "version": "3.7.10"
  }
 },
 "nbformat": 4,
 "nbformat_minor": 4
}
